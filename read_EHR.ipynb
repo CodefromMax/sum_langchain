{
 "cells": [
  {
   "cell_type": "code",
   "execution_count": 2,
   "id": "e239f660",
   "metadata": {},
   "outputs": [
    {
     "name": "stdout",
     "output_type": "stream",
     "text": [
      "count    10.00000\n",
      "mean     58.50000\n",
      "std      11.78747\n",
      "min      39.00000\n",
      "25%      50.75000\n",
      "50%      59.00000\n",
      "75%      66.75000\n",
      "max      75.00000\n",
      "Name: Age, dtype: float64\n"
     ]
    }
   ],
   "source": [
    "import pandas as pd\n",
    "\n",
    "# Load the EHR data\n",
    "ehr_df = pd.read_csv('EHR_data.csv')\n",
    "\n",
    "# Provide a summary of the 'age' column\n",
    "age_summary = ehr_df['Age'].describe()\n",
    "print(age_summary)"
   ]
  }
 ],
 "metadata": {
  "kernelspec": {
   "display_name": "Python 3",
   "language": "python",
   "name": "python3"
  },
  "language_info": {
   "codemirror_mode": {
    "name": "ipython",
    "version": 3
   },
   "file_extension": ".py",
   "mimetype": "text/x-python",
   "name": "python",
   "nbconvert_exporter": "python",
   "pygments_lexer": "ipython3",
   "version": "3.11.9"
  }
 },
 "nbformat": 4,
 "nbformat_minor": 5
}
